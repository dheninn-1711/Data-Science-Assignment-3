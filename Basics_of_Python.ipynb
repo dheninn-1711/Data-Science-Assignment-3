{
  "nbformat": 4,
  "nbformat_minor": 0,
  "metadata": {
    "colab": {
      "provenance": []
    },
    "kernelspec": {
      "name": "python3",
      "display_name": "Python 3"
    },
    "language_info": {
      "name": "python"
    }
  },
  "cells": [
    {
      "cell_type": "code",
      "execution_count": 74,
      "metadata": {
        "id": "0iZClcyuRr2K",
        "colab": {
          "base_uri": "https://localhost:8080/"
        },
        "outputId": "ee71104f-fae3-4193-f461-76f9f7e238b4"
      },
      "outputs": [
        {
          "output_type": "stream",
          "name": "stdout",
          "text": [
            "Enter a number:149\n",
            "149 is a prime number.\n"
          ]
        }
      ],
      "source": [
        "#Prime Numbers\n",
        "def is_prime(n):\n",
        "  #check if the given number is a prime number\n",
        "  if n<=1:#numbers less than or equal to 1 are not prime\n",
        "    return False\n",
        "  if n<=3:#numbers 2,3 are prime\n",
        "    return True\n",
        "  if n%2==0 or n%3==0:#any number divisible by 2 or 3 is not prime except 2,3\n",
        "    return False\n",
        "  i=5#Check divisibility starting from 5 and skip even numbers and multiples of 3\n",
        "  while i*i<=n:\n",
        "    if n%i==0 or n%(i+2)==0:\n",
        "      return False\n",
        "    i+=6\n",
        "  return True\n",
        "num=int(input(\"Enter a number:\"))\n",
        "print(f\"{num} is {'a prime number'if is_prime(num) else 'not a prime number'}.\")#the final output\n"
      ]
    },
    {
      "cell_type": "code",
      "source": [
        "#Product of Random Numbers\n",
        "import random#generate two random numbers\n",
        "a=random.randint(1,10)\n",
        "b=random.randint(1,10)\n",
        "product=a*b#multiplying two random numbers\n",
        "answer=int(input(f\"What is the product of {a} and {b}:\"))#to check the answer entered by user is correct or not and what is the answer\n",
        "#the final output\n",
        "if answer==product:\n",
        "  print(\"correct answer\")\n",
        "else:\n",
        "  print(\"Oops the correct answer is\",product)\n"
      ],
      "metadata": {
        "colab": {
          "base_uri": "https://localhost:8080/"
        },
        "id": "ICYNLGocItTe",
        "outputId": "59e85f16-b966-4b02-b89d-7b21ecc0d232"
      },
      "execution_count": 77,
      "outputs": [
        {
          "output_type": "stream",
          "name": "stdout",
          "text": [
            "What is the product of 10 and 9:554\n",
            "Oops the correct answer is 90\n"
          ]
        }
      ]
    },
    {
      "cell_type": "code",
      "source": [
        "#Squares of Even/Odd Numbers\n",
        "start = 100#numbers range from 100\n",
        "end = 200#numbers range to 200\n",
        "print(\"Squares of odd numbers between 100 and 200:\")\n",
        "for num in range(start, end + 1):\n",
        "  if num % 2 != 0:#check if the number is even or odd\n",
        "    square = num ** 2 #Calculating the sqaure of the number\n",
        "    print(f\"{num} squared is {square}\")#the final output"
      ],
      "metadata": {
        "colab": {
          "base_uri": "https://localhost:8080/"
        },
        "id": "ZgepnhkVWrFm",
        "outputId": "6a8748ff-93d3-4367-dde9-45ce2c7eca7a"
      },
      "execution_count": 78,
      "outputs": [
        {
          "output_type": "stream",
          "name": "stdout",
          "text": [
            "Squares of odd numbers between 100 and 200:\n",
            "101 squared is 10201\n",
            "103 squared is 10609\n",
            "105 squared is 11025\n",
            "107 squared is 11449\n",
            "109 squared is 11881\n",
            "111 squared is 12321\n",
            "113 squared is 12769\n",
            "115 squared is 13225\n",
            "117 squared is 13689\n",
            "119 squared is 14161\n",
            "121 squared is 14641\n",
            "123 squared is 15129\n",
            "125 squared is 15625\n",
            "127 squared is 16129\n",
            "129 squared is 16641\n",
            "131 squared is 17161\n",
            "133 squared is 17689\n",
            "135 squared is 18225\n",
            "137 squared is 18769\n",
            "139 squared is 19321\n",
            "141 squared is 19881\n",
            "143 squared is 20449\n",
            "145 squared is 21025\n",
            "147 squared is 21609\n",
            "149 squared is 22201\n",
            "151 squared is 22801\n",
            "153 squared is 23409\n",
            "155 squared is 24025\n",
            "157 squared is 24649\n",
            "159 squared is 25281\n",
            "161 squared is 25921\n",
            "163 squared is 26569\n",
            "165 squared is 27225\n",
            "167 squared is 27889\n",
            "169 squared is 28561\n",
            "171 squared is 29241\n",
            "173 squared is 29929\n",
            "175 squared is 30625\n",
            "177 squared is 31329\n",
            "179 squared is 32041\n",
            "181 squared is 32761\n",
            "183 squared is 33489\n",
            "185 squared is 34225\n",
            "187 squared is 34969\n",
            "189 squared is 35721\n",
            "191 squared is 36481\n",
            "193 squared is 37249\n",
            "195 squared is 38025\n",
            "197 squared is 38809\n",
            "199 squared is 39601\n"
          ]
        }
      ]
    },
    {
      "cell_type": "code",
      "source": [
        "#Word counter\n",
        "def count_word_frequencies(text):\n",
        "    text = text.lower()#convert the text to lowercase to ensure case sensitivity\n",
        "    for char in \".,;!?:\\\"'\":# Replace punctuation with spaces for simple word splitting\n",
        "        text = text.replace(char, ' ')\n",
        "    words = text.split()#split the text into words\n",
        "    word_count = {}#create a dictionary\n",
        "    for word in words:#counts the frequency of each word\n",
        "        capitalized_word = word.capitalize()#capitalize the first letter of each word\n",
        "        if capitalized_word in word_count:\n",
        "            word_count[capitalized_word] += 1\n",
        "        else:\n",
        "            word_count[capitalized_word] = 1\n",
        "    return word_count\n",
        "input_text = \"This is a sample text. This text will be used to demonstrate the word counter.\"\n",
        "word_frequencies = count_word_frequencies(input_text)#counts the word frequencies\n",
        "for word, count in word_frequencies.items():\n",
        "    print(f\"'{word}': {count}\")#the final output"
      ],
      "metadata": {
        "colab": {
          "base_uri": "https://localhost:8080/"
        },
        "id": "3E8KGjlRkwnP",
        "outputId": "7b52ecc2-15e8-4a17-970c-1695fbc35858"
      },
      "execution_count": 79,
      "outputs": [
        {
          "output_type": "stream",
          "name": "stdout",
          "text": [
            "'This': 2\n",
            "'Is': 1\n",
            "'A': 1\n",
            "'Sample': 1\n",
            "'Text': 2\n",
            "'Will': 1\n",
            "'Be': 1\n",
            "'Used': 1\n",
            "'To': 1\n",
            "'Demonstrate': 1\n",
            "'The': 1\n",
            "'Word': 1\n",
            "'Counter': 1\n"
          ]
        }
      ]
    },
    {
      "cell_type": "code",
      "source": [
        "#Check for Palindrome\n",
        "s = \"racecar\"\n",
        "normalized_str = ''.join(c.lower() for c in s if c.isalnum())#Normalize the string: remove non-alphanumeric characters and convert to lowercase\n",
        "is_palindrome = normalized_str == normalized_str[::-1]#Check if the normalized string is equal to its reverse\n",
        "# Print the result\n",
        "print(is_palindrome)#the final output"
      ],
      "metadata": {
        "colab": {
          "base_uri": "https://localhost:8080/"
        },
        "id": "x_SdL5hvtk7_",
        "outputId": "2055b6e9-d091-4ade-a991-1b22165daf25"
      },
      "execution_count": 84,
      "outputs": [
        {
          "output_type": "stream",
          "name": "stdout",
          "text": [
            "True\n"
          ]
        }
      ]
    }
  ]
}